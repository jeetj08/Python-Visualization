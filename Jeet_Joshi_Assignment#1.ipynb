{
 "cells": [
  {
   "cell_type": "code",
   "execution_count": 1,
   "metadata": {
    "collapsed": true
   },
   "outputs": [],
   "source": [
    "# Importing the required packages\n",
    "import numpy as np\n",
    "import pandas as pd\n",
    "import matplotlib.pyplot as plt\n",
    "import plotly as ply\n",
    "%matplotlib inline\n",
    "import seaborn as sns\n",
    "import calendar as cal"
   ]
  },
  {
   "cell_type": "code",
   "execution_count": 2,
   "metadata": {},
   "outputs": [
    {
     "name": "stdout",
     "output_type": "stream",
     "text": [
      "2.0.15\n"
     ]
    }
   ],
   "source": [
    "from plotly import __version__\n",
    "from plotly.offline import download_plotlyjs, init_notebook_mode, plot, iplot\n",
    "\n",
    "print(__version__) # requires version >= 1.9.0"
   ]
  },
  {
   "cell_type": "code",
   "execution_count": 3,
   "metadata": {
    "collapsed": true
   },
   "outputs": [],
   "source": [
    "import cufflinks as cf"
   ]
  },
  {
   "cell_type": "code",
   "execution_count": 4,
   "metadata": {},
   "outputs": [
    {
     "data": {
      "text/html": [
       "<script>requirejs.config({paths: { 'plotly': ['https://cdn.plot.ly/plotly-latest.min']},});if(!window.Plotly) {{require(['plotly'],function(plotly) {window.Plotly=plotly;});}}</script>"
      ],
      "text/vnd.plotly.v1+html": [
       "<script>requirejs.config({paths: { 'plotly': ['https://cdn.plot.ly/plotly-latest.min']},});if(!window.Plotly) {{require(['plotly'],function(plotly) {window.Plotly=plotly;});}}</script>"
      ]
     },
     "metadata": {},
     "output_type": "display_data"
    }
   ],
   "source": [
    "# For Notebooks\n",
    "init_notebook_mode(connected=True)"
   ]
  },
  {
   "cell_type": "code",
   "execution_count": 5,
   "metadata": {},
   "outputs": [
    {
     "name": "stderr",
     "output_type": "stream",
     "text": [
      "IOPub data rate exceeded.\n",
      "The notebook server will temporarily stop sending output\n",
      "to the client in order to avoid crashing it.\n",
      "To change this limit, set the config variable\n",
      "`--NotebookApp.iopub_data_rate_limit`.\n"
     ]
    }
   ],
   "source": [
    "# For offline use\n",
    "cf.go_offline()"
   ]
  },
  {
   "cell_type": "code",
   "execution_count": 6,
   "metadata": {
    "collapsed": true
   },
   "outputs": [],
   "source": [
    "# Reading the Data and creating different dataframes\n",
    "elec1 = pd.read_csv(\"C:\\\\Users\\\\Jeet\\\\Desktop\\\\Python\\\\Homework\\\\Assignment 1\\\\all_house_senate_2010.csv\", encoding = 'ISO-8859-1', low_memory = False)\n",
    "elec2 = pd.read_csv(\"C:\\\\Users\\\\Jeet\\\\Desktop\\\\Python\\\\Homework\\\\Assignment 1\\\\all_house_senate_2012.csv\", encoding = 'ISO-8859-1', low_memory = False)\n",
    "elec4 = pd.read_csv(\"C:\\\\Users\\\\Jeet\\\\Desktop\\\\Python\\\\Homework\\\\Assignment 1\\\\all_house_senate_2014.csv\", encoding = 'ISO-8859-1', low_memory = False)\n",
    "elec6 = pd.read_csv(\"C:\\\\Users\\\\Jeet\\\\Desktop\\\\Python\\\\Homework\\\\Assignment 1\\\\all_house_senate_2016.csv\", encoding = 'ISO-8859-1', low_memory = False)"
   ]
  },
  {
   "cell_type": "code",
   "execution_count": 7,
   "metadata": {
    "collapsed": true
   },
   "outputs": [],
   "source": [
    "# Concatenating the dataframes to combine the data\n",
    "combine = [elec1, elec2, elec4, elec6]\n",
    "elec = pd.concat(combine)"
   ]
  },
  {
   "cell_type": "code",
   "execution_count": 8,
   "metadata": {
    "scrolled": true
   },
   "outputs": [
    {
     "data": {
      "text/html": [
       "<div>\n",
       "<style>\n",
       "    .dataframe thead tr:only-child th {\n",
       "        text-align: right;\n",
       "    }\n",
       "\n",
       "    .dataframe thead th {\n",
       "        text-align: left;\n",
       "    }\n",
       "\n",
       "    .dataframe tbody tr th {\n",
       "        vertical-align: top;\n",
       "    }\n",
       "</style>\n",
       "<table border=\"1\" class=\"dataframe\">\n",
       "  <thead>\n",
       "    <tr style=\"text-align: right;\">\n",
       "      <th></th>\n",
       "      <th>com_id</th>\n",
       "      <th>com_nam</th>\n",
       "      <th>can_id</th>\n",
       "      <th>can_nam</th>\n",
       "      <th>ele_yea</th>\n",
       "      <th>can_off</th>\n",
       "      <th>can_off_sta</th>\n",
       "      <th>can_off_dis</th>\n",
       "      <th>lin_num</th>\n",
       "      <th>lin_ima</th>\n",
       "      <th>...</th>\n",
       "      <th>rec_zip</th>\n",
       "      <th>dis_dat</th>\n",
       "      <th>dis_amo</th>\n",
       "      <th>dis_pur_des</th>\n",
       "      <th>mem_cod</th>\n",
       "      <th>mem_tex</th>\n",
       "      <th>cat_cod</th>\n",
       "      <th>cat_des</th>\n",
       "      <th>tra_id</th>\n",
       "      <th>bac_ref_id</th>\n",
       "    </tr>\n",
       "  </thead>\n",
       "  <tbody>\n",
       "    <tr>\n",
       "      <th>0</th>\n",
       "      <td>C00372102</td>\n",
       "      <td>JIM GERLACH FOR CONGRESS COMMITTEE</td>\n",
       "      <td>H2PA06114</td>\n",
       "      <td>GERLACH, JIM</td>\n",
       "      <td>2010</td>\n",
       "      <td>H</td>\n",
       "      <td>PA</td>\n",
       "      <td>6.0</td>\n",
       "      <td>17</td>\n",
       "      <td>http://docquery.fec.gov/cgi-bin/fecimg/?109306...</td>\n",
       "      <td>...</td>\n",
       "      <td>064608708</td>\n",
       "      <td>2010-04-01</td>\n",
       "      <td>$254.40</td>\n",
       "      <td>POSTAGE MACHINE LEASE</td>\n",
       "      <td>NaN</td>\n",
       "      <td>NaN</td>\n",
       "      <td>001</td>\n",
       "      <td>Administrative/Salary/Overhead Expenses</td>\n",
       "      <td>B-E-25707</td>\n",
       "      <td>NaN</td>\n",
       "    </tr>\n",
       "    <tr>\n",
       "      <th>1</th>\n",
       "      <td>C00372102</td>\n",
       "      <td>JIM GERLACH FOR CONGRESS COMMITTEE</td>\n",
       "      <td>H2PA06114</td>\n",
       "      <td>GERLACH, JIM</td>\n",
       "      <td>2010</td>\n",
       "      <td>H</td>\n",
       "      <td>PA</td>\n",
       "      <td>6.0</td>\n",
       "      <td>17</td>\n",
       "      <td>http://docquery.fec.gov/cgi-bin/fecimg/?109306...</td>\n",
       "      <td>...</td>\n",
       "      <td>193439533</td>\n",
       "      <td>2010-04-01</td>\n",
       "      <td>$1,650.00</td>\n",
       "      <td>OFFICE RENT</td>\n",
       "      <td>NaN</td>\n",
       "      <td>NaN</td>\n",
       "      <td>001</td>\n",
       "      <td>Administrative/Salary/Overhead Expenses</td>\n",
       "      <td>B-E-25700</td>\n",
       "      <td>NaN</td>\n",
       "    </tr>\n",
       "    <tr>\n",
       "      <th>2</th>\n",
       "      <td>C00372102</td>\n",
       "      <td>JIM GERLACH FOR CONGRESS COMMITTEE</td>\n",
       "      <td>H2PA06114</td>\n",
       "      <td>GERLACH, JIM</td>\n",
       "      <td>2010</td>\n",
       "      <td>H</td>\n",
       "      <td>PA</td>\n",
       "      <td>6.0</td>\n",
       "      <td>17</td>\n",
       "      <td>http://docquery.fec.gov/cgi-bin/fecimg/?109314...</td>\n",
       "      <td>...</td>\n",
       "      <td>070541867</td>\n",
       "      <td>2010-09-13</td>\n",
       "      <td>$3,140.00</td>\n",
       "      <td>ADVERTISING: WEB ADVERTISING</td>\n",
       "      <td>NaN</td>\n",
       "      <td>NaN</td>\n",
       "      <td>004</td>\n",
       "      <td>Advertising Expenses</td>\n",
       "      <td>B-E-27437</td>\n",
       "      <td>NaN</td>\n",
       "    </tr>\n",
       "    <tr>\n",
       "      <th>3</th>\n",
       "      <td>C00372102</td>\n",
       "      <td>JIM GERLACH FOR CONGRESS COMMITTEE</td>\n",
       "      <td>H2PA06114</td>\n",
       "      <td>GERLACH, JIM</td>\n",
       "      <td>2010</td>\n",
       "      <td>H</td>\n",
       "      <td>PA</td>\n",
       "      <td>6.0</td>\n",
       "      <td>17</td>\n",
       "      <td>http://docquery.fec.gov/cgi-bin/fecimg/?109314...</td>\n",
       "      <td>...</td>\n",
       "      <td>150908655</td>\n",
       "      <td>2010-09-13</td>\n",
       "      <td>$2,305.00</td>\n",
       "      <td>FUNDRAISING: FUNDRAISING COMMISSION</td>\n",
       "      <td>NaN</td>\n",
       "      <td>NaN</td>\n",
       "      <td>003</td>\n",
       "      <td>Solicitation and Fundraising Expenses</td>\n",
       "      <td>B-E-27443</td>\n",
       "      <td>NaN</td>\n",
       "    </tr>\n",
       "    <tr>\n",
       "      <th>4</th>\n",
       "      <td>C00372102</td>\n",
       "      <td>JIM GERLACH FOR CONGRESS COMMITTEE</td>\n",
       "      <td>H2PA06114</td>\n",
       "      <td>GERLACH, JIM</td>\n",
       "      <td>2010</td>\n",
       "      <td>H</td>\n",
       "      <td>PA</td>\n",
       "      <td>6.0</td>\n",
       "      <td>17</td>\n",
       "      <td>http://docquery.fec.gov/cgi-bin/fecimg/?109314...</td>\n",
       "      <td>...</td>\n",
       "      <td>152507461</td>\n",
       "      <td>2010-09-13</td>\n",
       "      <td>$44.72</td>\n",
       "      <td>OVERNIGHT MAIL</td>\n",
       "      <td>NaN</td>\n",
       "      <td>NaN</td>\n",
       "      <td>001</td>\n",
       "      <td>Administrative/Salary/Overhead Expenses</td>\n",
       "      <td>B-E-27432</td>\n",
       "      <td>NaN</td>\n",
       "    </tr>\n",
       "  </tbody>\n",
       "</table>\n",
       "<p>5 rows × 26 columns</p>\n",
       "</div>"
      ],
      "text/plain": [
       "      com_id                             com_nam     can_id       can_nam  \\\n",
       "0  C00372102  JIM GERLACH FOR CONGRESS COMMITTEE  H2PA06114  GERLACH, JIM   \n",
       "1  C00372102  JIM GERLACH FOR CONGRESS COMMITTEE  H2PA06114  GERLACH, JIM   \n",
       "2  C00372102  JIM GERLACH FOR CONGRESS COMMITTEE  H2PA06114  GERLACH, JIM   \n",
       "3  C00372102  JIM GERLACH FOR CONGRESS COMMITTEE  H2PA06114  GERLACH, JIM   \n",
       "4  C00372102  JIM GERLACH FOR CONGRESS COMMITTEE  H2PA06114  GERLACH, JIM   \n",
       "\n",
       "   ele_yea can_off can_off_sta  can_off_dis lin_num  \\\n",
       "0     2010       H          PA          6.0      17   \n",
       "1     2010       H          PA          6.0      17   \n",
       "2     2010       H          PA          6.0      17   \n",
       "3     2010       H          PA          6.0      17   \n",
       "4     2010       H          PA          6.0      17   \n",
       "\n",
       "                                             lin_ima    ...        rec_zip  \\\n",
       "0  http://docquery.fec.gov/cgi-bin/fecimg/?109306...    ...      064608708   \n",
       "1  http://docquery.fec.gov/cgi-bin/fecimg/?109306...    ...      193439533   \n",
       "2  http://docquery.fec.gov/cgi-bin/fecimg/?109314...    ...      070541867   \n",
       "3  http://docquery.fec.gov/cgi-bin/fecimg/?109314...    ...      150908655   \n",
       "4  http://docquery.fec.gov/cgi-bin/fecimg/?109314...    ...      152507461   \n",
       "\n",
       "      dis_dat    dis_amo                          dis_pur_des mem_cod mem_tex  \\\n",
       "0  2010-04-01    $254.40                POSTAGE MACHINE LEASE     NaN     NaN   \n",
       "1  2010-04-01  $1,650.00                          OFFICE RENT     NaN     NaN   \n",
       "2  2010-09-13  $3,140.00         ADVERTISING: WEB ADVERTISING     NaN     NaN   \n",
       "3  2010-09-13  $2,305.00  FUNDRAISING: FUNDRAISING COMMISSION     NaN     NaN   \n",
       "4  2010-09-13     $44.72                       OVERNIGHT MAIL     NaN     NaN   \n",
       "\n",
       "  cat_cod                                   cat_des     tra_id bac_ref_id  \n",
       "0     001  Administrative/Salary/Overhead Expenses   B-E-25707        NaN  \n",
       "1     001  Administrative/Salary/Overhead Expenses   B-E-25700        NaN  \n",
       "2     004                     Advertising Expenses   B-E-27437        NaN  \n",
       "3     003    Solicitation and Fundraising Expenses   B-E-27443        NaN  \n",
       "4     001  Administrative/Salary/Overhead Expenses   B-E-27432        NaN  \n",
       "\n",
       "[5 rows x 26 columns]"
      ]
     },
     "execution_count": 8,
     "metadata": {},
     "output_type": "execute_result"
    }
   ],
   "source": [
    "# To view the data\n",
    "elec.head()"
   ]
  },
  {
   "cell_type": "code",
   "execution_count": 9,
   "metadata": {
    "collapsed": true
   },
   "outputs": [],
   "source": [
    "# Removing the '$' Sign from the Disbursment Amount and converting it to float\n",
    "elec['dis_amo'] = elec['dis_amo'].str.replace(',', '')\n",
    "elec['dis_amo'] = elec['dis_amo'].str.replace('$', '')\n",
    "elec['dis_amo'] = elec['dis_amo'].astype(float)"
   ]
  },
  {
   "cell_type": "code",
   "execution_count": 10,
   "metadata": {
    "collapsed": true
   },
   "outputs": [],
   "source": [
    "# Performing Data Cleaning to Remove Missing Values\n",
    "\n",
    "# Removing the missing values from 'can_off_dis'\n",
    "elec.dropna(subset = ['can_off_dis'], how = 'all', inplace = True)\n",
    "\n",
    "# Removing the missing values from 'dis_dat'\n",
    "elec.dropna(subset = ['dis_dat'], how = 'all', inplace = True)\n",
    "\n",
    "# Filling missing values from dis_amo\n",
    "elec['dis_amo'].fillna(elec['dis_amo'].mean(), inplace = True)\n",
    "\n",
    "# remove missing values from lin_num\n",
    "elec.dropna(subset = ['lin_num'], how = 'all', inplace = True)"
   ]
  },
  {
   "cell_type": "code",
   "execution_count": 11,
   "metadata": {},
   "outputs": [
    {
     "data": {
      "text/plain": [
       "Index(['com_id', 'com_nam', 'can_id', 'can_nam', 'ele_yea', 'can_off',\n",
       "       'can_off_sta', 'can_off_dis', 'lin_num', 'lin_ima', 'rec_com_id',\n",
       "       'rec_nam', 'rec_str1', 'rec_str2', 'rec_cit', 'rec_sta', 'rec_zip',\n",
       "       'dis_dat', 'dis_amo', 'dis_pur_des', 'mem_cod', 'mem_tex', 'cat_cod',\n",
       "       'cat_des', 'tra_id', 'bac_ref_id'],\n",
       "      dtype='object')"
      ]
     },
     "execution_count": 11,
     "metadata": {},
     "output_type": "execute_result"
    }
   ],
   "source": [
    "# Checking the Columns present after dropping\n",
    "elec.columns"
   ]
  },
  {
   "cell_type": "code",
   "execution_count": 12,
   "metadata": {},
   "outputs": [
    {
     "data": {
      "text/plain": [
       "com_id         False\n",
       "com_nam        False\n",
       "can_id         False\n",
       "can_nam        False\n",
       "ele_yea        False\n",
       "can_off        False\n",
       "can_off_sta    False\n",
       "can_off_dis    False\n",
       "lin_num        False\n",
       "lin_ima        False\n",
       "rec_com_id      True\n",
       "rec_nam         True\n",
       "rec_str1        True\n",
       "rec_str2        True\n",
       "rec_cit         True\n",
       "rec_sta         True\n",
       "rec_zip         True\n",
       "dis_dat        False\n",
       "dis_amo        False\n",
       "dis_pur_des     True\n",
       "mem_cod         True\n",
       "mem_tex         True\n",
       "cat_cod         True\n",
       "cat_des         True\n",
       "tra_id          True\n",
       "bac_ref_id      True\n",
       "dtype: bool"
      ]
     },
     "execution_count": 12,
     "metadata": {},
     "output_type": "execute_result"
    }
   ],
   "source": [
    "# Checking for any Null data\n",
    "elec.isnull().any()"
   ]
  },
  {
   "cell_type": "code",
   "execution_count": 13,
   "metadata": {
    "collapsed": true
   },
   "outputs": [],
   "source": [
    "# Dropping the columns\n",
    "elec.drop('rec_com_id', axis = 1, inplace = True)\n",
    "elec.drop('rec_str1', axis = 1, inplace = True)\n",
    "elec.drop('rec_str2', axis = 1, inplace = True)\n",
    "elec.drop('mem_cod', axis = 1, inplace = True)\n",
    "elec.drop('mem_tex', axis = 1, inplace = True)\n",
    "elec.drop('com_id', axis = 1, inplace = True)\n",
    "elec.drop('can_id', axis = 1, inplace = True)\n",
    "elec.drop('lin_ima', axis = 1, inplace = True)\n",
    "elec.drop('lin_num', axis = 1, inplace = True)\n",
    "elec.drop('bac_ref_id', axis = 1, inplace = True)"
   ]
  },
  {
   "cell_type": "code",
   "execution_count": 14,
   "metadata": {
    "collapsed": true
   },
   "outputs": [],
   "source": [
    "# Filling the missing values\n",
    "elec['rec_sta'].fillna('UNKNOWN', inplace = True)\n",
    "elec['rec_cit'].fillna('UNKNOWN', inplace = True)\n",
    "elec['rec_zip'].fillna('UNKNOWN', inplace = True)\n",
    "elec['dis_pur_des'].fillna('UNKNOWN', inplace = True)\n",
    "elec['cat_cod'].fillna('UNKNOWN', inplace = True)\n",
    "elec['cat_des'].fillna('UNKNOWN', inplace = True)\n",
    "elec['rec_nam'].fillna('UNKNOWN', inplace = True)"
   ]
  },
  {
   "cell_type": "code",
   "execution_count": 15,
   "metadata": {
    "scrolled": true
   },
   "outputs": [
    {
     "data": {
      "text/plain": [
       "0          254.40\n",
       "1         1650.00\n",
       "2         3140.00\n",
       "3         2305.00\n",
       "4           44.72\n",
       "5           39.01\n",
       "6          171.98\n",
       "7           43.88\n",
       "8           52.03\n",
       "9           32.01\n",
       "10          47.64\n",
       "11         447.46\n",
       "12         321.70\n",
       "13         923.08\n",
       "14        1152.22\n",
       "15         401.11\n",
       "16        1391.70\n",
       "17         112.20\n",
       "18         370.46\n",
       "19        3667.50\n",
       "20          41.54\n",
       "21        1680.00\n",
       "22          45.90\n",
       "23        4492.10\n",
       "24        3000.00\n",
       "25          44.00\n",
       "26         339.97\n",
       "27          23.26\n",
       "28          22.00\n",
       "29         550.00\n",
       "           ...   \n",
       "797849     295.00\n",
       "797850    7500.00\n",
       "797851     259.00\n",
       "797852      48.86\n",
       "797853       7.95\n",
       "797854     192.90\n",
       "797855      38.99\n",
       "797856      28.62\n",
       "797857     876.80\n",
       "797858       1.15\n",
       "797859       5.70\n",
       "797860      49.05\n",
       "797861       5.67\n",
       "797862       8.63\n",
       "797863    1780.34\n",
       "797864     900.00\n",
       "797865    2000.00\n",
       "797866     249.13\n",
       "797867     183.77\n",
       "797868     375.00\n",
       "797869    6000.00\n",
       "797870     902.31\n",
       "797871     453.73\n",
       "797872     311.07\n",
       "797873    1049.00\n",
       "797874       0.00\n",
       "797875     235.20\n",
       "797876       6.00\n",
       "797877       6.00\n",
       "797878    2080.39\n",
       "Name: dis_amo, Length: 3326660, dtype: float64"
      ]
     },
     "execution_count": 15,
     "metadata": {},
     "output_type": "execute_result"
    }
   ],
   "source": [
    "# Displaying the Price\n",
    "elec['dis_amo']"
   ]
  },
  {
   "cell_type": "code",
   "execution_count": 16,
   "metadata": {},
   "outputs": [
    {
     "data": {
      "text/html": [
       "<div>\n",
       "<style>\n",
       "    .dataframe thead tr:only-child th {\n",
       "        text-align: right;\n",
       "    }\n",
       "\n",
       "    .dataframe thead th {\n",
       "        text-align: left;\n",
       "    }\n",
       "\n",
       "    .dataframe tbody tr th {\n",
       "        vertical-align: top;\n",
       "    }\n",
       "</style>\n",
       "<table border=\"1\" class=\"dataframe\">\n",
       "  <thead>\n",
       "    <tr style=\"text-align: right;\">\n",
       "      <th></th>\n",
       "      <th>com_nam</th>\n",
       "      <th>can_nam</th>\n",
       "      <th>ele_yea</th>\n",
       "      <th>can_off</th>\n",
       "      <th>can_off_sta</th>\n",
       "      <th>can_off_dis</th>\n",
       "      <th>rec_nam</th>\n",
       "      <th>rec_cit</th>\n",
       "      <th>rec_sta</th>\n",
       "      <th>rec_zip</th>\n",
       "      <th>dis_dat</th>\n",
       "      <th>dis_amo</th>\n",
       "      <th>dis_pur_des</th>\n",
       "      <th>cat_cod</th>\n",
       "      <th>cat_des</th>\n",
       "      <th>tra_id</th>\n",
       "    </tr>\n",
       "  </thead>\n",
       "  <tbody>\n",
       "    <tr>\n",
       "      <th>0</th>\n",
       "      <td>JIM GERLACH FOR CONGRESS COMMITTEE</td>\n",
       "      <td>GERLACH, JIM</td>\n",
       "      <td>2010</td>\n",
       "      <td>H</td>\n",
       "      <td>PA</td>\n",
       "      <td>6.0</td>\n",
       "      <td>HASLER, INC</td>\n",
       "      <td>MILFORD</td>\n",
       "      <td>CT</td>\n",
       "      <td>064608708</td>\n",
       "      <td>2010-04-01</td>\n",
       "      <td>254.40</td>\n",
       "      <td>POSTAGE MACHINE LEASE</td>\n",
       "      <td>001</td>\n",
       "      <td>Administrative/Salary/Overhead Expenses</td>\n",
       "      <td>B-E-25707</td>\n",
       "    </tr>\n",
       "    <tr>\n",
       "      <th>1</th>\n",
       "      <td>JIM GERLACH FOR CONGRESS COMMITTEE</td>\n",
       "      <td>GERLACH, JIM</td>\n",
       "      <td>2010</td>\n",
       "      <td>H</td>\n",
       "      <td>PA</td>\n",
       "      <td>6.0</td>\n",
       "      <td>MACKEY, JOHN C</td>\n",
       "      <td>GLENMOORE</td>\n",
       "      <td>PA</td>\n",
       "      <td>193439533</td>\n",
       "      <td>2010-04-01</td>\n",
       "      <td>1650.00</td>\n",
       "      <td>OFFICE RENT</td>\n",
       "      <td>001</td>\n",
       "      <td>Administrative/Salary/Overhead Expenses</td>\n",
       "      <td>B-E-25700</td>\n",
       "    </tr>\n",
       "    <tr>\n",
       "      <th>2</th>\n",
       "      <td>JIM GERLACH FOR CONGRESS COMMITTEE</td>\n",
       "      <td>GERLACH, JIM</td>\n",
       "      <td>2010</td>\n",
       "      <td>H</td>\n",
       "      <td>PA</td>\n",
       "      <td>6.0</td>\n",
       "      <td>CAMPBELL CAMPAIGNS</td>\n",
       "      <td>PARSIPPANY</td>\n",
       "      <td>NJ</td>\n",
       "      <td>070541867</td>\n",
       "      <td>2010-09-13</td>\n",
       "      <td>3140.00</td>\n",
       "      <td>ADVERTISING: WEB ADVERTISING</td>\n",
       "      <td>004</td>\n",
       "      <td>Advertising Expenses</td>\n",
       "      <td>B-E-27437</td>\n",
       "    </tr>\n",
       "    <tr>\n",
       "      <th>3</th>\n",
       "      <td>JIM GERLACH FOR CONGRESS COMMITTEE</td>\n",
       "      <td>GERLACH, JIM</td>\n",
       "      <td>2010</td>\n",
       "      <td>H</td>\n",
       "      <td>PA</td>\n",
       "      <td>6.0</td>\n",
       "      <td>DEVANNEY GROUP LLC</td>\n",
       "      <td>WEXFORD</td>\n",
       "      <td>PA</td>\n",
       "      <td>150908655</td>\n",
       "      <td>2010-09-13</td>\n",
       "      <td>2305.00</td>\n",
       "      <td>FUNDRAISING: FUNDRAISING COMMISSION</td>\n",
       "      <td>003</td>\n",
       "      <td>Solicitation and Fundraising Expenses</td>\n",
       "      <td>B-E-27443</td>\n",
       "    </tr>\n",
       "    <tr>\n",
       "      <th>4</th>\n",
       "      <td>JIM GERLACH FOR CONGRESS COMMITTEE</td>\n",
       "      <td>GERLACH, JIM</td>\n",
       "      <td>2010</td>\n",
       "      <td>H</td>\n",
       "      <td>PA</td>\n",
       "      <td>6.0</td>\n",
       "      <td>FEDEX</td>\n",
       "      <td>PITTSBURGH</td>\n",
       "      <td>PA</td>\n",
       "      <td>152507461</td>\n",
       "      <td>2010-09-13</td>\n",
       "      <td>44.72</td>\n",
       "      <td>OVERNIGHT MAIL</td>\n",
       "      <td>001</td>\n",
       "      <td>Administrative/Salary/Overhead Expenses</td>\n",
       "      <td>B-E-27432</td>\n",
       "    </tr>\n",
       "  </tbody>\n",
       "</table>\n",
       "</div>"
      ],
      "text/plain": [
       "                              com_nam       can_nam  ele_yea can_off  \\\n",
       "0  JIM GERLACH FOR CONGRESS COMMITTEE  GERLACH, JIM     2010       H   \n",
       "1  JIM GERLACH FOR CONGRESS COMMITTEE  GERLACH, JIM     2010       H   \n",
       "2  JIM GERLACH FOR CONGRESS COMMITTEE  GERLACH, JIM     2010       H   \n",
       "3  JIM GERLACH FOR CONGRESS COMMITTEE  GERLACH, JIM     2010       H   \n",
       "4  JIM GERLACH FOR CONGRESS COMMITTEE  GERLACH, JIM     2010       H   \n",
       "\n",
       "  can_off_sta  can_off_dis             rec_nam     rec_cit rec_sta    rec_zip  \\\n",
       "0          PA          6.0         HASLER, INC     MILFORD      CT  064608708   \n",
       "1          PA          6.0      MACKEY, JOHN C   GLENMOORE      PA  193439533   \n",
       "2          PA          6.0  CAMPBELL CAMPAIGNS  PARSIPPANY      NJ  070541867   \n",
       "3          PA          6.0  DEVANNEY GROUP LLC     WEXFORD      PA  150908655   \n",
       "4          PA          6.0               FEDEX  PITTSBURGH      PA  152507461   \n",
       "\n",
       "      dis_dat  dis_amo                          dis_pur_des cat_cod  \\\n",
       "0  2010-04-01   254.40                POSTAGE MACHINE LEASE     001   \n",
       "1  2010-04-01  1650.00                          OFFICE RENT     001   \n",
       "2  2010-09-13  3140.00         ADVERTISING: WEB ADVERTISING     004   \n",
       "3  2010-09-13  2305.00  FUNDRAISING: FUNDRAISING COMMISSION     003   \n",
       "4  2010-09-13    44.72                       OVERNIGHT MAIL     001   \n",
       "\n",
       "                                    cat_des     tra_id  \n",
       "0  Administrative/Salary/Overhead Expenses   B-E-25707  \n",
       "1  Administrative/Salary/Overhead Expenses   B-E-25700  \n",
       "2                     Advertising Expenses   B-E-27437  \n",
       "3    Solicitation and Fundraising Expenses   B-E-27443  \n",
       "4  Administrative/Salary/Overhead Expenses   B-E-27432  "
      ]
     },
     "execution_count": 16,
     "metadata": {},
     "output_type": "execute_result"
    }
   ],
   "source": [
    "# Viewing the dataset after manipulation\n",
    "elec.head()"
   ]
  },
  {
   "cell_type": "code",
   "execution_count": 17,
   "metadata": {},
   "outputs": [
    {
     "data": {
      "text/plain": [
       "com_nam         object\n",
       "can_nam         object\n",
       "ele_yea          int64\n",
       "can_off         object\n",
       "can_off_sta     object\n",
       "can_off_dis    float64\n",
       "rec_nam         object\n",
       "rec_cit         object\n",
       "rec_sta         object\n",
       "rec_zip         object\n",
       "dis_dat         object\n",
       "dis_amo        float64\n",
       "dis_pur_des     object\n",
       "cat_cod         object\n",
       "cat_des         object\n",
       "tra_id          object\n",
       "dtype: object"
      ]
     },
     "execution_count": 17,
     "metadata": {},
     "output_type": "execute_result"
    }
   ],
   "source": [
    "# Checking the type pf data present in columns\n",
    "elec.dtypes"
   ]
  },
  {
   "cell_type": "code",
   "execution_count": 18,
   "metadata": {
    "collapsed": true
   },
   "outputs": [],
   "source": [
    "# Seperating the Date into Years, Months and Days\n",
    "\n",
    "elec['date'] = elec['dis_dat'].astype('datetime64[ns]')\n",
    "elec['date'] = pd.to_datetime(elec['date'])\n",
    "elec['year'] = elec['date'].dt.year\n",
    "elec['month'] = elec['date'].dt.month\n",
    "elec['day'] = elec['date'].dt.day"
   ]
  },
  {
   "cell_type": "code",
   "execution_count": 19,
   "metadata": {
    "collapsed": true
   },
   "outputs": [],
   "source": [
    "elec['month'] = elec['month'].apply(lambda x: cal.month_abbr[x])"
   ]
  },
  {
   "cell_type": "code",
   "execution_count": 20,
   "metadata": {
    "collapsed": true
   },
   "outputs": [],
   "source": [
    "# Splitting the Amount into Positive and Negative\n",
    "\n",
    "mask = elec['dis_amo'] < 0\n",
    "elec['pos_amo'] = elec['dis_amo'].mask(mask)\n",
    "elec['neg_amo'] = elec['dis_amo'].mask(~mask)\n",
    "elec['pos_amo'].fillna(0, inplace=True)\n",
    "elec['neg_amo'].fillna(0, inplace=True)"
   ]
  },
  {
   "cell_type": "markdown",
   "metadata": {},
   "source": [
    "BAR PLOT"
   ]
  },
  {
   "cell_type": "code",
   "execution_count": 21,
   "metadata": {},
   "outputs": [
    {
     "data": {
      "text/plain": [
       "[<matplotlib.text.Text at 0x233dea9b160>,\n",
       " <matplotlib.text.Text at 0x233dea798d0>]"
      ]
     },
     "execution_count": 21,
     "metadata": {},
     "output_type": "execute_result"
    },
    {
     "data": {
      "image/png": "[encoded data removed]",
      "text/plain": [
       "<matplotlib.figure.Figure at 0x233b99c3c88>"
      ]
     },
     "metadata": {},
     "output_type": "display_data"
    }
   ],
   "source": [
    "ax = sns.barplot(x = 'can_off', y = 'pos_amo', data = elec)\n",
    "\n",
    "# Changing the labels for X and Y Axis\n",
    "ax.set(xlabel = 'Candidate Office', ylabel = 'Mean of Disbursment Amount')"
   ]
  },
  {
   "cell_type": "markdown",
   "metadata": {},
   "source": [
    "LINE GRAPH"
   ]
  },
  {
   "cell_type": "code",
   "execution_count": 22,
   "metadata": {},
   "outputs": [
    {
     "data": {
      "text/plain": [
       "<matplotlib.axes._subplots.AxesSubplot at 0x23381468780>"
      ]
     },
     "execution_count": 22,
     "metadata": {},
     "output_type": "execute_result"
    },
    {
     "data": {
      "image/png": "[encoded data removed]",
      "text/plain": [
       "<matplotlib.figure.Figure at 0x233de714828>"
      ]
     },
     "metadata": {},
     "output_type": "display_data"
    }
   ],
   "source": [
    "plt = elec.groupby('month')['pos_amo'].sum()\n",
    "plt.plot(kind = 'line', title='Sum of Disembursment Amount', color = 'purple')"
   ]
  },
  {
   "cell_type": "markdown",
   "metadata": {},
   "source": [
    "COUNT PLOT"
   ]
  },
  {
   "cell_type": "code",
   "execution_count": 23,
   "metadata": {},
   "outputs": [
    {
     "data": {
      "text/plain": [
       "<matplotlib.legend.Legend at 0x23381533da0>"
      ]
     },
     "execution_count": 23,
     "metadata": {},
     "output_type": "execute_result"
    },
    {
     "data": {
      "image/png": "[encoded data removed]",
      "text/plain": [
       "<matplotlib.figure.Figure at 0x23381533780>"
      ]
     },
     "metadata": {},
     "output_type": "display_data"
    }
   ],
   "source": [
    "# Changing the canvas size and formatting\n",
    "#sns.fig = plt.figure(figsize = (5,25))\n",
    "sns.set_style('white')\n",
    "#sns.set_context('poster', font_scale = 1)\n",
    "\n",
    "# Counting the number of records against the states\n",
    "ax = sns.countplot(x = 'can_off_sta', data = elec, palette = 'bright', hue = 'ele_yea')\n",
    "\n",
    "# Changing the labels for X and Y Axis\n",
    "ax.set(ylabel = 'Count', xlabel = 'States')\n",
    "\n",
    "# Setting the position of Legend\n",
    "ax.legend(loc = 1)"
   ]
  },
  {
   "cell_type": "markdown",
   "metadata": {},
   "source": [
    "HISTOGRAM"
   ]
  },
  {
   "cell_type": "code",
   "execution_count": 24,
   "metadata": {},
   "outputs": [
    {
     "data": {
      "image/png": "[encoded data removed]",
      "text/plain": [
       "<matplotlib.figure.Figure at 0x2338150f518>"
      ]
     },
     "metadata": {},
     "output_type": "display_data"
    }
   ],
   "source": [
    "elec['can_off_dis'].hist(bins = 20, facecolor = '#887E43', histtype = 'bar', rwidth = 0.93)\n",
    "#plt.xlabel('Candidate Office District (Bins)')\n",
    "#plt.ylabel('Count of Candidate Office Districts')\n",
    "#plt.axis([0,56,0,550000])\n",
    "sns.despine(left = True)\n",
    "#plt.grid(True)"
   ]
  },
  {
   "cell_type": "code",
   "execution_count": 25,
   "metadata": {},
   "outputs": [
    {
     "data": {
      "text/html": [
       "<div>\n",
       "<style>\n",
       "    .dataframe thead tr:only-child th {\n",
       "        text-align: right;\n",
       "    }\n",
       "\n",
       "    .dataframe thead th {\n",
       "        text-align: left;\n",
       "    }\n",
       "\n",
       "    .dataframe tbody tr th {\n",
       "        vertical-align: top;\n",
       "    }\n",
       "</style>\n",
       "<table border=\"1\" class=\"dataframe\">\n",
       "  <thead>\n",
       "    <tr style=\"text-align: right;\">\n",
       "      <th></th>\n",
       "      <th>ele_yea</th>\n",
       "      <th>can_off_dis</th>\n",
       "      <th>dis_amo</th>\n",
       "      <th>year</th>\n",
       "      <th>day</th>\n",
       "      <th>pos_amo</th>\n",
       "      <th>neg_amo</th>\n",
       "    </tr>\n",
       "  </thead>\n",
       "  <tbody>\n",
       "    <tr>\n",
       "      <th>ele_yea</th>\n",
       "      <td>1.000000</td>\n",
       "      <td>0.016728</td>\n",
       "      <td>0.000746</td>\n",
       "      <td>0.959406</td>\n",
       "      <td>0.000411</td>\n",
       "      <td>0.000738</td>\n",
       "      <td>0.000514</td>\n",
       "    </tr>\n",
       "    <tr>\n",
       "      <th>can_off_dis</th>\n",
       "      <td>0.016728</td>\n",
       "      <td>1.000000</td>\n",
       "      <td>-0.014952</td>\n",
       "      <td>0.013543</td>\n",
       "      <td>0.010914</td>\n",
       "      <td>-0.014958</td>\n",
       "      <td>0.000288</td>\n",
       "    </tr>\n",
       "    <tr>\n",
       "      <th>dis_amo</th>\n",
       "      <td>0.000746</td>\n",
       "      <td>-0.014952</td>\n",
       "      <td>1.000000</td>\n",
       "      <td>0.006205</td>\n",
       "      <td>0.004503</td>\n",
       "      <td>0.999883</td>\n",
       "      <td>0.016014</td>\n",
       "    </tr>\n",
       "    <tr>\n",
       "      <th>year</th>\n",
       "      <td>0.959406</td>\n",
       "      <td>0.013543</td>\n",
       "      <td>0.006205</td>\n",
       "      <td>1.000000</td>\n",
       "      <td>0.000972</td>\n",
       "      <td>0.006200</td>\n",
       "      <td>0.000354</td>\n",
       "    </tr>\n",
       "    <tr>\n",
       "      <th>day</th>\n",
       "      <td>0.000411</td>\n",
       "      <td>0.010914</td>\n",
       "      <td>0.004503</td>\n",
       "      <td>0.000972</td>\n",
       "      <td>1.000000</td>\n",
       "      <td>0.004522</td>\n",
       "      <td>-0.001200</td>\n",
       "    </tr>\n",
       "    <tr>\n",
       "      <th>pos_amo</th>\n",
       "      <td>0.000738</td>\n",
       "      <td>-0.014958</td>\n",
       "      <td>0.999883</td>\n",
       "      <td>0.006200</td>\n",
       "      <td>0.004522</td>\n",
       "      <td>1.000000</td>\n",
       "      <td>0.000737</td>\n",
       "    </tr>\n",
       "    <tr>\n",
       "      <th>neg_amo</th>\n",
       "      <td>0.000514</td>\n",
       "      <td>0.000288</td>\n",
       "      <td>0.016014</td>\n",
       "      <td>0.000354</td>\n",
       "      <td>-0.001200</td>\n",
       "      <td>0.000737</td>\n",
       "      <td>1.000000</td>\n",
       "    </tr>\n",
       "  </tbody>\n",
       "</table>\n",
       "</div>"
      ],
      "text/plain": [
       "              ele_yea  can_off_dis   dis_amo      year       day   pos_amo  \\\n",
       "ele_yea      1.000000     0.016728  0.000746  0.959406  0.000411  0.000738   \n",
       "can_off_dis  0.016728     1.000000 -0.014952  0.013543  0.010914 -0.014958   \n",
       "dis_amo      0.000746    -0.014952  1.000000  0.006205  0.004503  0.999883   \n",
       "year         0.959406     0.013543  0.006205  1.000000  0.000972  0.006200   \n",
       "day          0.000411     0.010914  0.004503  0.000972  1.000000  0.004522   \n",
       "pos_amo      0.000738    -0.014958  0.999883  0.006200  0.004522  1.000000   \n",
       "neg_amo      0.000514     0.000288  0.016014  0.000354 -0.001200  0.000737   \n",
       "\n",
       "              neg_amo  \n",
       "ele_yea      0.000514  \n",
       "can_off_dis  0.000288  \n",
       "dis_amo      0.016014  \n",
       "year         0.000354  \n",
       "day         -0.001200  \n",
       "pos_amo      0.000737  \n",
       "neg_amo      1.000000  "
      ]
     },
     "execution_count": 25,
     "metadata": {},
     "output_type": "execute_result"
    }
   ],
   "source": [
    "# Forming a Correlation matrix for the dataset\n",
    "elec.corr()"
   ]
  },
  {
   "cell_type": "markdown",
   "metadata": {},
   "source": [
    "HEATMAP"
   ]
  },
  {
   "cell_type": "code",
   "execution_count": 26,
   "metadata": {},
   "outputs": [
    {
     "data": {
      "text/plain": [
       "<matplotlib.axes._subplots.AxesSubplot at 0x2338451b5c0>"
      ]
     },
     "execution_count": 26,
     "metadata": {},
     "output_type": "execute_result"
    },
    {
     "data": {
      "image/png": "[encoded data removed]",
      "text/plain": [
       "<matplotlib.figure.Figure at 0x23384515a58>"
      ]
     },
     "metadata": {},
     "output_type": "display_data"
    }
   ],
   "source": [
    "sns.heatmap(elec.corr(), annot = True)"
   ]
  },
  {
   "cell_type": "markdown",
   "metadata": {},
   "source": [
    "STRIP PLOT"
   ]
  },
  {
   "cell_type": "code",
   "execution_count": 27,
   "metadata": {},
   "outputs": [
    {
     "data": {
      "text/plain": [
       "[<matplotlib.text.Text at 0x233844d1898>,\n",
       " <matplotlib.text.Text at 0x233df3be588>]"
      ]
     },
     "execution_count": 27,
     "metadata": {},
     "output_type": "execute_result"
    },
    {
     "data": {
      "image/png": "[encoded data removed]",
      "text/plain": [
       "<matplotlib.figure.Figure at 0x233845697b8>"
      ]
     },
     "metadata": {},
     "output_type": "display_data"
    }
   ],
   "source": [
    "#sns.fig = plt.figure(figsize = (25,5))\n",
    "sns.set_style('white')\n",
    "ax = sns.stripplot(x = elec['month'], y = 'pos_amo', hue = 'ele_yea', jitter = True, data = elec, palette = 'Set2')\n",
    "# Setting the position of Legend\n",
    "ax.legend(loc = 1)\n",
    "ax.set(xlabel = 'Month', ylabel = 'Amount')\n",
    "#ax.set_ylim([0, 6000000])"
   ]
  },
  {
   "cell_type": "markdown",
   "metadata": {},
   "source": [
    "VIOLIN PLOT"
   ]
  },
  {
   "cell_type": "code",
   "execution_count": 28,
   "metadata": {
    "scrolled": false
   },
   "outputs": [
    {
     "data": {
      "text/plain": [
       "[<matplotlib.text.Text at 0x233816c6fd0>,\n",
       " <matplotlib.text.Text at 0x23384556198>]"
      ]
     },
     "execution_count": 28,
     "metadata": {},
     "output_type": "execute_result"
    },
    {
     "data": {
      "image/png": "[encoded data removed]",
      "text/plain": [
       "<matplotlib.figure.Figure at 0x233df28e7b8>"
      ]
     },
     "metadata": {},
     "output_type": "display_data"
    }
   ],
   "source": [
    "ax = sns.violinplot(x = elec['ele_yea'], y = 'can_off', data =elec, hue='can_off')\n",
    "ax.set(xlabel = 'Year', ylabel = 'Candidate Office')"
   ]
  },
  {
   "cell_type": "code",
   "execution_count": 29,
   "metadata": {},
   "outputs": [
    {
     "data": {
      "text/html": [
       "<div>\n",
       "<style>\n",
       "    .dataframe thead tr:only-child th {\n",
       "        text-align: right;\n",
       "    }\n",
       "\n",
       "    .dataframe thead th {\n",
       "        text-align: left;\n",
       "    }\n",
       "\n",
       "    .dataframe tbody tr th {\n",
       "        vertical-align: top;\n",
       "    }\n",
       "</style>\n",
       "<table border=\"1\" class=\"dataframe\">\n",
       "  <thead>\n",
       "    <tr style=\"text-align: right;\">\n",
       "      <th>ele_yea</th>\n",
       "      <th>2010</th>\n",
       "      <th>2012</th>\n",
       "      <th>2014</th>\n",
       "      <th>2016</th>\n",
       "    </tr>\n",
       "    <tr>\n",
       "      <th>month</th>\n",
       "      <th></th>\n",
       "      <th></th>\n",
       "      <th></th>\n",
       "      <th></th>\n",
       "    </tr>\n",
       "  </thead>\n",
       "  <tbody>\n",
       "    <tr>\n",
       "      <th>Apr</th>\n",
       "      <td>1958.496877</td>\n",
       "      <td>2002.021094</td>\n",
       "      <td>2040.158939</td>\n",
       "      <td>1968.973913</td>\n",
       "    </tr>\n",
       "    <tr>\n",
       "      <th>Aug</th>\n",
       "      <td>2432.421927</td>\n",
       "      <td>2300.386349</td>\n",
       "      <td>1931.511110</td>\n",
       "      <td>2405.320211</td>\n",
       "    </tr>\n",
       "    <tr>\n",
       "      <th>Dec</th>\n",
       "      <td>1326.295592</td>\n",
       "      <td>1351.425261</td>\n",
       "      <td>1325.619188</td>\n",
       "      <td>1522.980157</td>\n",
       "    </tr>\n",
       "    <tr>\n",
       "      <th>Feb</th>\n",
       "      <td>1294.569325</td>\n",
       "      <td>1323.119549</td>\n",
       "      <td>1597.884322</td>\n",
       "      <td>1618.483125</td>\n",
       "    </tr>\n",
       "    <tr>\n",
       "      <th>Jan</th>\n",
       "      <td>1644.050300</td>\n",
       "      <td>1435.872231</td>\n",
       "      <td>1553.955558</td>\n",
       "      <td>1594.170962</td>\n",
       "    </tr>\n",
       "    <tr>\n",
       "      <th>Jul</th>\n",
       "      <td>1982.299069</td>\n",
       "      <td>2410.473712</td>\n",
       "      <td>2196.742033</td>\n",
       "      <td>2225.296492</td>\n",
       "    </tr>\n",
       "    <tr>\n",
       "      <th>Jun</th>\n",
       "      <td>1478.970824</td>\n",
       "      <td>1699.847728</td>\n",
       "      <td>1776.788063</td>\n",
       "      <td>1685.178194</td>\n",
       "    </tr>\n",
       "    <tr>\n",
       "      <th>Mar</th>\n",
       "      <td>1362.285714</td>\n",
       "      <td>1577.594348</td>\n",
       "      <td>1461.372608</td>\n",
       "      <td>1695.557192</td>\n",
       "    </tr>\n",
       "    <tr>\n",
       "      <th>May</th>\n",
       "      <td>1786.818488</td>\n",
       "      <td>1986.683725</td>\n",
       "      <td>1885.518967</td>\n",
       "      <td>1875.171003</td>\n",
       "    </tr>\n",
       "    <tr>\n",
       "      <th>Nov</th>\n",
       "      <td>1656.032944</td>\n",
       "      <td>1926.534159</td>\n",
       "      <td>1672.658148</td>\n",
       "      <td>2177.473565</td>\n",
       "    </tr>\n",
       "    <tr>\n",
       "      <th>Oct</th>\n",
       "      <td>4388.174922</td>\n",
       "      <td>4374.744625</td>\n",
       "      <td>3881.580524</td>\n",
       "      <td>4336.012247</td>\n",
       "    </tr>\n",
       "    <tr>\n",
       "      <th>Sep</th>\n",
       "      <td>3067.145004</td>\n",
       "      <td>3014.481568</td>\n",
       "      <td>2579.022953</td>\n",
       "      <td>3319.454300</td>\n",
       "    </tr>\n",
       "  </tbody>\n",
       "</table>\n",
       "</div>"
      ],
      "text/plain": [
       "ele_yea         2010         2012         2014         2016\n",
       "month                                                      \n",
       "Apr      1958.496877  2002.021094  2040.158939  1968.973913\n",
       "Aug      2432.421927  2300.386349  1931.511110  2405.320211\n",
       "Dec      1326.295592  1351.425261  1325.619188  1522.980157\n",
       "Feb      1294.569325  1323.119549  1597.884322  1618.483125\n",
       "Jan      1644.050300  1435.872231  1553.955558  1594.170962\n",
       "Jul      1982.299069  2410.473712  2196.742033  2225.296492\n",
       "Jun      1478.970824  1699.847728  1776.788063  1685.178194\n",
       "Mar      1362.285714  1577.594348  1461.372608  1695.557192\n",
       "May      1786.818488  1986.683725  1885.518967  1875.171003\n",
       "Nov      1656.032944  1926.534159  1672.658148  2177.473565\n",
       "Oct      4388.174922  4374.744625  3881.580524  4336.012247\n",
       "Sep      3067.145004  3014.481568  2579.022953  3319.454300"
      ]
     },
     "execution_count": 29,
     "metadata": {},
     "output_type": "execute_result"
    }
   ],
   "source": [
    "elec_data = elec.pivot_table(values = 'dis_amo', index = 'month', columns = 'ele_yea')\n",
    "elec_data"
   ]
  },
  {
   "cell_type": "markdown",
   "metadata": {},
   "source": [
    "CLUSTER MAP"
   ]
  },
  {
   "cell_type": "code",
   "execution_count": 30,
   "metadata": {},
   "outputs": [
    {
     "name": "stderr",
     "output_type": "stream",
     "text": [
      "C:\\Users\\Jeet\\Anaconda3\\lib\\site-packages\\matplotlib\\cbook.py:136: MatplotlibDeprecationWarning:\n",
      "\n",
      "The axisbg attribute was deprecated in version 2.0. Use facecolor instead.\n",
      "\n"
     ]
    },
    {
     "data": {
      "image/png": "[encoded data removed]",
      "text/plain": [
       "<matplotlib.figure.Figure at 0x23386450fd0>"
      ]
     },
     "metadata": {},
     "output_type": "display_data"
    }
   ],
   "source": [
    "ax = sns.clustermap(elec_data, linecolor = 'white', linewidths = 1)"
   ]
  },
  {
   "cell_type": "code",
   "execution_count": 31,
   "metadata": {
    "collapsed": true
   },
   "outputs": [],
   "source": [
    "import plotly.plotly as py \n",
    "py.sign_in('jeet08', '6Yn2MPnaWbDwdzBqUehS')\n",
    "import plotly \n",
    "plotly.tools.set_credentials_file(username = 'jeet08', api_key = '6Yn2MPnaWbDwdzBqUehS')"
   ]
  },
  {
   "cell_type": "code",
   "execution_count": 32,
   "metadata": {
    "collapsed": true
   },
   "outputs": [],
   "source": [
    "elec_p = elec.groupby(['ele_yea','can_off_sta']).agg({'dis_amo' : 'sum'}).reset_index()"
   ]
  },
  {
   "cell_type": "code",
   "execution_count": 33,
   "metadata": {},
   "outputs": [
    {
     "data": {
      "text/html": [
       "<div>\n",
       "<style>\n",
       "    .dataframe thead tr:only-child th {\n",
       "        text-align: right;\n",
       "    }\n",
       "\n",
       "    .dataframe thead th {\n",
       "        text-align: left;\n",
       "    }\n",
       "\n",
       "    .dataframe tbody tr th {\n",
       "        vertical-align: top;\n",
       "    }\n",
       "</style>\n",
       "<table border=\"1\" class=\"dataframe\">\n",
       "  <thead>\n",
       "    <tr style=\"text-align: right;\">\n",
       "      <th></th>\n",
       "      <th>ele_yea</th>\n",
       "      <th>can_off_sta</th>\n",
       "      <th>dis_amo</th>\n",
       "    </tr>\n",
       "  </thead>\n",
       "  <tbody>\n",
       "    <tr>\n",
       "      <th>0</th>\n",
       "      <td>2010</td>\n",
       "      <td>AK</td>\n",
       "      <td>8450930.36</td>\n",
       "    </tr>\n",
       "    <tr>\n",
       "      <th>1</th>\n",
       "      <td>2010</td>\n",
       "      <td>AL</td>\n",
       "      <td>17482276.49</td>\n",
       "    </tr>\n",
       "    <tr>\n",
       "      <th>2</th>\n",
       "      <td>2010</td>\n",
       "      <td>AR</td>\n",
       "      <td>35426302.71</td>\n",
       "    </tr>\n",
       "    <tr>\n",
       "      <th>3</th>\n",
       "      <td>2010</td>\n",
       "      <td>AS</td>\n",
       "      <td>129108.27</td>\n",
       "    </tr>\n",
       "    <tr>\n",
       "      <th>4</th>\n",
       "      <td>2010</td>\n",
       "      <td>AZ</td>\n",
       "      <td>59504511.28</td>\n",
       "    </tr>\n",
       "  </tbody>\n",
       "</table>\n",
       "</div>"
      ],
      "text/plain": [
       "   ele_yea can_off_sta      dis_amo\n",
       "0     2010          AK   8450930.36\n",
       "1     2010          AL  17482276.49\n",
       "2     2010          AR  35426302.71\n",
       "3     2010          AS    129108.27\n",
       "4     2010          AZ  59504511.28"
      ]
     },
     "execution_count": 33,
     "metadata": {},
     "output_type": "execute_result"
    }
   ],
   "source": [
    "elec_p.head()"
   ]
  },
  {
   "cell_type": "markdown",
   "metadata": {},
   "source": [
    "CHOROPLETH MAP"
   ]
  },
  {
   "cell_type": "code",
   "execution_count": 34,
   "metadata": {
    "scrolled": false
   },
   "outputs": [
    {
     "data": {
      "text/html": [
       "<iframe id=\"igraph\" scrolling=\"no\" style=\"border:none;\" seamless=\"seamless\" src=\"https://plot.ly/~jeet08/4.embed\" height=\"525px\" width=\"100%\"></iframe>"
      ],
      "text/plain": [
       "<plotly.tools.PlotlyDisplay object>"
      ]
     },
     "execution_count": 34,
     "metadata": {},
     "output_type": "execute_result"
    }
   ],
   "source": [
    "# Converting to string\n",
    "for col in elec_p.columns:\n",
    "    elec_p[col] = elec_p[col].astype(str)\n",
    "\n",
    "# Defining colour scale\n",
    "scl = [[0.0, 'rgb(242,240,247)'],[0.2, 'rgb(218,218,235)'],[0.4, 'rgb(188,189,220)'],\\\n",
    "            [0.6, 'rgb(158,154,200)'],[0.8, 'rgb(117,107,177)'],[1.0, 'rgb(84,39,143)']]\n",
    "\n",
    "# Creating text on hover\n",
    "elec_p['text'] = 'The amount spent in ' + elec_p['can_off_sta'] + '<br>' + ' in year ' + elec_p['ele_yea'] + ' is ' + elec_p['dis_amo']\n",
    "    \n",
    "# Plotting data    \n",
    "data = [ dict(\n",
    "         type = 'choropleth',\n",
    "         colorscale = scl,\n",
    "         autocolorscale = False,\n",
    "         locations = elec_p['can_off_sta'],\n",
    "         z = elec_p['dis_amo'].astype(float),\n",
    "         locationmode = 'USA-states',\n",
    "         text = elec_p['text'],\n",
    "         marker = dict(\n",
    "         line = dict (\n",
    "         color = 'rgb(0,0,0)',\n",
    "         width = 2\n",
    "                     )\n",
    "                      ),\n",
    "         colorbar = dict(\n",
    "         title = \"Amount in Million $\")\n",
    "                )\n",
    "       ]\n",
    "\n",
    "# Defining plot properties\n",
    "layout = dict(\n",
    "         title = 'Disbursement Amount by States',\n",
    "         geo = dict(\n",
    "         scope = 'usa',\n",
    "         countrycolor = 'rgb(255, 255, 128)',\n",
    "         countrywidth = 0.1,\n",
    "         projection = dict( type='albers usa' ),\n",
    "         showlakes = True,\n",
    "         lakecolor = 'rgb(128, 64, 64)'),\n",
    "             )\n",
    "    \n",
    "fig = dict(data = data, layout = layout )\n",
    "py.iplot(fig)"
   ]
  },
  {
   "cell_type": "markdown",
   "metadata": {},
   "source": [
    "STACKED BAR"
   ]
  },
  {
   "cell_type": "code",
   "execution_count": 35,
   "metadata": {
    "collapsed": true
   },
   "outputs": [],
   "source": [
    "elect0 = elec.groupby(['ele_yea','can_off_sta']).agg({'pos_amo' : 'sum'}).reset_index()\n",
    "elect2 = elec.groupby(['ele_yea','can_off_sta']).agg({'pos_amo' : 'sum'}).reset_index()\n",
    "elect4 = elec.groupby(['ele_yea','can_off_sta']).agg({'pos_amo' : 'sum'}).reset_index()\n",
    "elect6 = elec.groupby(['ele_yea','can_off_sta']).agg({'pos_amo' : 'sum'}).reset_index()"
   ]
  },
  {
   "cell_type": "code",
   "execution_count": 36,
   "metadata": {},
   "outputs": [
    {
     "data": {
      "text/html": [
       "<iframe id=\"igraph\" scrolling=\"no\" style=\"border:none;\" seamless=\"seamless\" src=\"https://plot.ly/~jeet08/6.embed\" height=\"525px\" width=\"100%\"></iframe>"
      ],
      "text/plain": [
       "<plotly.tools.PlotlyDisplay object>"
      ]
     },
     "execution_count": 36,
     "metadata": {},
     "output_type": "execute_result"
    }
   ],
   "source": [
    "import plotly.graph_objs as go\n",
    "trace1 = go.Bar(\n",
    "     y = elect0['pos_amo'],\n",
    "     x = elect0['can_off_sta'],\n",
    "     name ='2010'\n",
    ")\n",
    "trace2 = go.Bar(\n",
    "    y = elect2['pos_amo'],\n",
    "    x = elect2['can_off_sta'],\n",
    "    name ='2012'\n",
    ")\n",
    "trace3 = go.Bar(\n",
    "    y = elect4['pos_amo'],\n",
    "    x = elect4['can_off_sta'],\n",
    "    name ='2014'\n",
    ")\n",
    "trace4 = go.Bar(\n",
    "    y = elect6['pos_amo'],\n",
    "    x = elect6['can_off_sta'],\n",
    "    name ='2016'\n",
    ")\n",
    "data=[trace1,trace2,trace3,trace4]\n",
    "layout = go.Layout(title = 'Amount Disembursed by States',\n",
    "                   xaxis = dict(title = 'States'),\n",
    "                   yaxis = dict(title = 'Amount Disembursed', range=[0,]),\n",
    "                   barmode='stack'                  \n",
    ")\n",
    "fig = go.Figure(data=data, layout=layout)\n",
    "py.iplot(fig)"
   ]
  }
 ],
 "metadata": {
  "kernelspec": {
   "display_name": "Python 3",
   "language": "python",
   "name": "python3"
  },
  "language_info": {
   "codemirror_mode": {
    "name": "ipython",
    "version": 3
   },
   "file_extension": ".py",
   "mimetype": "text/x-python",
   "name": "python",
   "nbconvert_exporter": "python",
   "pygments_lexer": "ipython3",
   "version": "3.6.1"
  }
 },
 "nbformat": 4,
 "nbformat_minor": 2
}
